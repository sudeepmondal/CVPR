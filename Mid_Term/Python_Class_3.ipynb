{
 "cells": [
  {
   "cell_type": "markdown",
   "id": "8766468f-502d-4fbd-8ee2-0db9cbf9903a",
   "metadata": {},
   "source": [
    "## NUMPY\n",
    "### Arrays"
   ]
  },
  {
   "cell_type": "code",
   "execution_count": 15,
   "id": "e8e11ff0-bf36-4483-86d8-86ded9be63d7",
   "metadata": {},
   "outputs": [
    {
     "name": "stdout",
     "output_type": "stream",
     "text": [
      "<class 'numpy.ndarray'>\n",
      "(3,)\n",
      "1 2 3\n",
      "[5 2 3]\n",
      "(2, 3)\n",
      "1 2 4\n"
     ]
    }
   ],
   "source": [
    "import numpy as np\n",
    "\n",
    "# Rank 1 Array (1D)\n",
    "a = np.array([1, 2, 3])  \n",
    "print(type(a))     # <class 'numpy.ndarray'>\n",
    "print(a.shape)     # (3,)\n",
    "print(a[0], a[1], a[2])  # 1 2 3\n",
    "a[0] = 5   \n",
    "print(a)          # [5, 2, 3]\n",
    "\n",
    "# Rank 2 Array (2D)\n",
    "b = np.array([[1,2,3], [4,5,6]])  \n",
    "print(b.shape)     # (2, 3)\n",
    "print(b[0, 0], b[0, 1], b[1, 0])  # 1 2 4"
   ]
  },
  {
   "cell_type": "code",
   "execution_count": 16,
   "id": "de29db9d-7cab-435a-af5f-17be2eefec4c",
   "metadata": {},
   "outputs": [
    {
     "name": "stdout",
     "output_type": "stream",
     "text": [
      "[[0. 0.]\n",
      " [0. 0.]]\n",
      "[[1. 1.]]\n",
      "[[7 7]\n",
      " [7 7]]\n",
      "[[1. 0.]\n",
      " [0. 1.]]\n",
      "[[0.09532002 0.69321415]\n",
      " [0.73715399 0.03360605]]\n"
     ]
    }
   ],
   "source": [
    "# 1️ 2x2 Zero Matrix\n",
    "a = np.zeros((2,2))    \n",
    "print(a)  \n",
    "# [[0. 0.]\n",
    "#  [0. 0.]]\n",
    "\n",
    "# 2️ 1x2 Ones Matrix\n",
    "b = np.ones((1,2))    \n",
    "print(b)  \n",
    "# [[1. 1.]]\n",
    "\n",
    "# 3️ 2x2 Constant Matrix (Filled with 7)\n",
    "c = np.full((2,2), 7)   \n",
    "print(c)  \n",
    "# [[7. 7.]\n",
    "#  [7. 7.]]\n",
    "\n",
    "# 4️ 2x2 Identity Matrix\n",
    "d = np.eye(2)          \n",
    "print(d)  \n",
    "# [[1. 0.]\n",
    "#  [0. 1.]]\n",
    "\n",
    "# 5️ 2x2 Random Matrix (Values will vary)\n",
    "e = np.random.random((2,2))  \n",
    "print(e)  \n",
    "# Example output:\n",
    "# [[0.52 0.71]\n",
    "#  [0.93 0.12]]"
   ]
  },
  {
   "cell_type": "markdown",
   "id": "4605e248-14d2-442b-8910-f538f5d04cde",
   "metadata": {},
   "source": [
    "### Array indexing"
   ]
  },
  {
   "cell_type": "code",
   "execution_count": 17,
   "id": "fda4b37c-afc1-48c9-8c5e-7f96943b28d4",
   "metadata": {},
   "outputs": [
    {
     "name": "stdout",
     "output_type": "stream",
     "text": [
      "[[ 1  2  3  4]\n",
      " [ 5  6  7  8]\n",
      " [ 9 10 11 12]]\n",
      "[[2 3]\n",
      " [6 7]]\n",
      "2\n",
      "77\n"
     ]
    }
   ],
   "source": [
    "# 3x4 Matrix \n",
    "a = np.array([[1,2,3,4], \n",
    "              [5,6,7,8], \n",
    "              [9,10,11,12]])\n",
    "\n",
    "# a-subset (Slice): 1st 2 Row & 2 Column (Column index 1-2)\n",
    "b = a[:2, 1:3]\n",
    "\n",
    "print(a)  \n",
    "# [[ 1  2  3  4]\n",
    "#  [ 5  6  7  8]\n",
    "#  [ 9 10 11 12]]\n",
    "\n",
    "print(b)  \n",
    "# [[2 3]\n",
    "#  [6 7]]\n",
    "\n",
    "print(a[0, 1])  # Prints \"2\"\n",
    "\n",
    "# if b changes then a change (Because 'b' is a view of 'a')\n",
    "b[0, 0] = 77  \n",
    "\n",
    "print(a[0, 1])  # Prints \"77\" (main Array-change!)"
   ]
  },
  {
   "cell_type": "code",
   "execution_count": 18,
   "id": "4152c124-4f82-41b0-bee4-a69ea085cea1",
   "metadata": {},
   "outputs": [
    {
     "name": "stdout",
     "output_type": "stream",
     "text": [
      "[5 6 7 8] (4,)\n",
      "[[5 6 7 8]] (1, 4)\n",
      "[ 2  6 10] (3,)\n",
      "[[ 2]\n",
      " [ 6]\n",
      " [10]] (3, 1)\n"
     ]
    }
   ],
   "source": [
    "a = np.array([[1, 2, 3, 4], \n",
    "              [5, 6, 7, 8], \n",
    "              [9,10,11,12]])\n",
    "\n",
    "# Rank 1 View (a 1D Array)\n",
    "row_r1 = a[1, :]  \n",
    "print(row_r1, row_r1.shape)  \n",
    "# Output: [5 6 7 8] (4,)  → 1D Array\n",
    "\n",
    "# Rank 2 View (a 2D Array)\n",
    "row_r2 = a[1:2, :]  \n",
    "print(row_r2, row_r2.shape)  \n",
    "# Output: [[5 6 7 8]] (1, 4) → 2D Array\n",
    "\n",
    "# Column slicing - Rank 1 View\n",
    "col_r1 = a[:, 1]  \n",
    "print(col_r1, col_r1.shape)  \n",
    "# Output: [ 2  6 10] (3,)  → 1D Array\n",
    "\n",
    "# Column slicing - Rank 2 View\n",
    "col_r2 = a[:, 1:2]  \n",
    "print(col_r2, col_r2.shape)  \n",
    "# Output: \n",
    "# [[ 2] \n",
    "#  [ 6] \n",
    "#  [10]]  (3, 1) → 2D Array"
   ]
  },
  {
   "cell_type": "code",
   "execution_count": 19,
   "id": "7a7accda-7b0d-41bb-ba6a-696711b0cbbf",
   "metadata": {},
   "outputs": [
    {
     "name": "stdout",
     "output_type": "stream",
     "text": [
      "[1 4 5]\n",
      "[1 4 5]\n",
      "[2 2]\n",
      "[2 2]\n"
     ]
    }
   ],
   "source": [
    "a = np.array([[1, 2], \n",
    "              [3, 4], \n",
    "              [5, 6]])\n",
    "\n",
    "# using Multiple specific indices to calculate value (Integer Array Indexing)\n",
    "print(a[[0, 1, 2], [0, 1, 0]])  \n",
    "# Output: [1 4 5]\n",
    "\n",
    "# same (Manually):\n",
    "print(np.array([a[0, 0], a[1, 1], a[2, 0]]))  \n",
    "# Output: [1 4 5]\n",
    "\n",
    "# same index repeated using:\n",
    "print(a[[0, 0], [1, 1]])  \n",
    "# Output: [2 2]\n",
    "\n",
    "# same above code:\n",
    "print(np.array([a[0, 1], a[0, 1]]))  \n",
    "# Output: [2 2]"
   ]
  },
  {
   "cell_type": "code",
   "execution_count": 20,
   "id": "d1f03459-9455-4bba-8f10-ba6350da55ab",
   "metadata": {},
   "outputs": [
    {
     "name": "stdout",
     "output_type": "stream",
     "text": [
      "[[ 1  2  3]\n",
      " [ 4  5  6]\n",
      " [ 7  8  9]\n",
      " [10 11 12]]\n",
      "[ 1  6  7 11]\n",
      "[[11  2  3]\n",
      " [ 4  5 16]\n",
      " [17  8  9]\n",
      " [10 21 12]]\n"
     ]
    }
   ],
   "source": [
    "# Create a new array from which we will select elements\n",
    "a = np.array([[1,2,3], [4,5,6], [7,8,9], [10, 11, 12]])\n",
    "\n",
    "print(a)  # prints \"array([[ 1,  2,  3],\n",
    "          #                [ 4,  5,  6],\n",
    "          #                [ 7,  8,  9],\n",
    "          #                [10, 11, 12]])\"\n",
    "\n",
    "# Create an array of indices\n",
    "b = np.array([0, 2, 0, 1])\n",
    "\n",
    "# Select one element from each row of a using the indices in b\n",
    "print(a[np.arange(4), b])  # Prints \"[ 1  6  7 11]\"\n",
    "\n",
    "# Mutate one element from each row of a using the indices in b\n",
    "a[np.arange(4), b] += 10\n",
    "\n",
    "print(a)  # prints \"array([[11,  2,  3],\n",
    "          #                [ 4,  5, 16],\n",
    "          #                [17,  8,  9],\n",
    "          #                [10, 21, 12]])"
   ]
  },
  {
   "cell_type": "markdown",
   "id": "666e4e61-b72e-4314-83d5-1434ef72da23",
   "metadata": {},
   "source": [
    "### Boolean array indexing:\n"
   ]
  },
  {
   "cell_type": "code",
   "execution_count": 21,
   "id": "f5d1d48c-ef3d-40f6-b87f-c869856e9a60",
   "metadata": {},
   "outputs": [
    {
     "name": "stdout",
     "output_type": "stream",
     "text": [
      "[[False False]\n",
      " [ True  True]\n",
      " [ True  True]]\n",
      "[3 4 5 6]\n",
      "[3 4 5 6]\n"
     ]
    }
   ],
   "source": [
    "a = np.array([[1,2], [3, 4], [5, 6]])\n",
    "\n",
    "bool_idx = (a > 2)   # Find the elements of a that are bigger than 2;\n",
    "                     # this returns a numpy array of Booleans of the same\n",
    "                     # shape as a, where each slot of bool_idx tells\n",
    "                     # whether that element of a is > 2.\n",
    "\n",
    "print(bool_idx)      # Prints \"[[False False]\n",
    "                     #          [ True  True]\n",
    "                     #          [ True  True]]\"\n",
    "\n",
    "# We use boolean array indexing to construct a rank 1 array\n",
    "# consisting of the elements of a corresponding to the True values\n",
    "# of bool_idx\n",
    "print(a[bool_idx])  # Prints \"[3 4 5 6]\"\n",
    "\n",
    "# We can do all of the above in a single concise statement:\n",
    "print(a[a > 2])     # Prints \"[3 4 5 6]\""
   ]
  },
  {
   "cell_type": "markdown",
   "id": "8f2c3dd1-476a-4fc3-8264-f66d074c3e2a",
   "metadata": {},
   "source": [
    "### Math"
   ]
  },
  {
   "cell_type": "code",
   "execution_count": 22,
   "id": "4f2670a9-ab66-40c3-8903-5aecfea842c3",
   "metadata": {},
   "outputs": [
    {
     "name": "stdout",
     "output_type": "stream",
     "text": [
      "[[ 6.  8.]\n",
      " [10. 12.]]\n",
      "[[ 6.  8.]\n",
      " [10. 12.]]\n",
      "[[-4. -4.]\n",
      " [-4. -4.]]\n",
      "[[-4. -4.]\n",
      " [-4. -4.]]\n",
      "[[ 5. 12.]\n",
      " [21. 32.]]\n",
      "[[ 5. 12.]\n",
      " [21. 32.]]\n",
      "[[0.2        0.33333333]\n",
      " [0.42857143 0.5       ]]\n",
      "[[0.2        0.33333333]\n",
      " [0.42857143 0.5       ]]\n",
      "[[1.         1.41421356]\n",
      " [1.73205081 2.        ]]\n"
     ]
    }
   ],
   "source": [
    "x = np.array([[1,2],[3,4]], dtype=np.float64)\n",
    "y = np.array([[5,6],[7,8]], dtype=np.float64)\n",
    "\n",
    "print(x + y)         # Element-wise sum\n",
    "print(np.add(x, y))  # Alternative method\n",
    "\n",
    "print(x - y)         # Element-wise subtraction\n",
    "print(np.subtract(x, y))\n",
    "\n",
    "print(x * y)         # Element-wise multiplication\n",
    "print(np.multiply(x, y))\n",
    "\n",
    "print(x / y)         # Element-wise division\n",
    "print(np.divide(x, y))\n",
    "\n",
    "print(np.sqrt(x))    # Element-wise square root\n"
   ]
  },
  {
   "cell_type": "code",
   "execution_count": 23,
   "id": "006c079c-c829-4bfe-8a2e-fbf2273fa4a3",
   "metadata": {},
   "outputs": [
    {
     "name": "stdout",
     "output_type": "stream",
     "text": [
      "219\n",
      "219\n",
      "[29 67]\n",
      "[29 67]\n",
      "[[19 22]\n",
      " [43 50]]\n",
      "[[19 22]\n",
      " [43 50]]\n"
     ]
    }
   ],
   "source": [
    "x = np.array([[1,2],[3,4]])\n",
    "y = np.array([[5,6],[7,8]])\n",
    "\n",
    "v = np.array([9,10])\n",
    "w = np.array([11, 12])\n",
    "\n",
    "print(v.dot(w))       # Inner product: 9*11 + 10*12 = 219\n",
    "print(np.dot(v, w))   # Same as above\n",
    "\n",
    "x = np.array([[1,2],[3,4]])\n",
    "print(x.dot(v))       # Matrix-vector product\n",
    "print(np.dot(x, v))   # Same result\n",
    "\n",
    "y = np.array([[5,6],[7,8]])\n",
    "print(x.dot(y))       # Matrix-matrix product\n",
    "print(np.dot(x, y))   # Same result\n"
   ]
  },
  {
   "cell_type": "code",
   "execution_count": 24,
   "id": "8d831e7c-a5ca-4b22-92c6-f8981f068b74",
   "metadata": {},
   "outputs": [
    {
     "name": "stdout",
     "output_type": "stream",
     "text": [
      "10\n",
      "[4 6]\n",
      "[3 7]\n"
     ]
    }
   ],
   "source": [
    "x = np.array([[1,2],[3,4]])\n",
    "\n",
    "print(np.sum(x))         # Total sum of all elements: 1+2+3+4 = 10\n",
    "print(np.sum(x, axis=0)) # Sum of each column: [1+3, 2+4] = [4, 6]\n",
    "print(np.sum(x, axis=1)) # Sum of each row: [1+2, 3+4] = [3, 7]\n"
   ]
  },
  {
   "cell_type": "code",
   "execution_count": 25,
   "id": "56d8e7ec-5a43-46a4-9cc4-f4eee1cf51ee",
   "metadata": {},
   "outputs": [
    {
     "name": "stdout",
     "output_type": "stream",
     "text": [
      "[[1 2]\n",
      " [3 4]]\n",
      "[[1 3]\n",
      " [2 4]]\n",
      "[1 2 3]\n",
      "[1 2 3]\n"
     ]
    }
   ],
   "source": [
    "x = np.array([[1,2], [3,4]])\n",
    "print(x)\n",
    "print(x.T)  # Transpose: Rows become columns & vice versa\n",
    "v = np.array([1,2,3])\n",
    "print(v) \n",
    "print(v.T)  # Transpose of 1D array does nothing"
   ]
  },
  {
   "cell_type": "markdown",
   "id": "fa23b826-3a54-40d3-ac82-74153e56e5ad",
   "metadata": {},
   "source": [
    "### Broadcasting"
   ]
  },
  {
   "cell_type": "code",
   "execution_count": 26,
   "id": "ec6c9bdb-2d96-4b5d-aaf2-47f0dec57aac",
   "metadata": {},
   "outputs": [
    {
     "name": "stdout",
     "output_type": "stream",
     "text": [
      "[[ 2  2  4]\n",
      " [ 5  5  7]\n",
      " [ 8  8 10]\n",
      " [11 11 13]]\n"
     ]
    }
   ],
   "source": [
    "x = np.array([[1,2,3], [4,5,6], [7,8,9], [10, 11, 12]])\n",
    "v = np.array([1, 0, 1])\n",
    "y = np.empty_like(x)   # Create an empty matrix with the same shape as x\n",
    "\n",
    "# Add the vector v to each row of the matrix x with an explicit loop\n",
    "for i in range(4):\n",
    "    y[i, :] = x[i, :] + v\n",
    "\n",
    "print(y)"
   ]
  },
  {
   "cell_type": "code",
   "execution_count": 30,
   "id": "f14b5bb4-e93f-46e6-893f-4d51a1e685df",
   "metadata": {},
   "outputs": [
    {
     "name": "stdout",
     "output_type": "stream",
     "text": [
      "[[ 2  2  4]\n",
      " [ 5  5  7]\n",
      " [ 8  8 10]\n",
      " [11 11 13]]\n"
     ]
    }
   ],
   "source": [
    "x = np.array([[1,2,3], [4,5,6], [7,8,9], [10, 11, 12]])\n",
    "v = np.array([1, 0, 1])\n",
    "y = x + v  # Add v to each row of x using broadcasting\n",
    "print(y)"
   ]
  },
  {
   "cell_type": "code",
   "execution_count": 28,
   "id": "03149f3e-3fdb-42cd-a251-88083e1c2a0b",
   "metadata": {},
   "outputs": [
    {
     "name": "stdout",
     "output_type": "stream",
     "text": [
      "[[ 4  5]\n",
      " [ 8 10]\n",
      " [12 15]]\n",
      "[[2 4 6]\n",
      " [5 7 9]]\n",
      "[[ 5  6  7]\n",
      " [ 9 10 11]]\n",
      "[[ 5  6  7]\n",
      " [ 9 10 11]]\n",
      "[[ 2  4  6]\n",
      " [ 8 10 12]]\n"
     ]
    }
   ],
   "source": [
    "# Compute outer product of vectors\n",
    "v = np.array([1,2,3])  # v has shape (3,)\n",
    "w = np.array([4,5])    # w has shape (2,)\n",
    "# To compute an outer product, we first reshape v to be a column\n",
    "# vector of shape (3, 1); we can then broadcast it against w to yield\n",
    "# an output of shape (3, 2), which is the outer product of v and w:\n",
    "# [[ 4  5]\n",
    "#  [ 8 10]\n",
    "#  [12 15]]\n",
    "print(np.reshape(v, (3, 1)) * w)\n",
    "\n",
    "# Add a vector to each row of a matrix\n",
    "x = np.array([[1,2,3], [4,5,6]])\n",
    "# x has shape (2, 3) and v has shape (3,) so they broadcast to (2, 3),\n",
    "# giving the following matrix:\n",
    "# [[2 4 6]\n",
    "#  [5 7 9]]\n",
    "print(x + v)\n",
    "\n",
    "# Add a vector to each column of a matrix\n",
    "# x has shape (2, 3) and w has shape (2,).\n",
    "# If we transpose x then it has shape (3, 2) and can be broadcast\n",
    "# against w to yield a result of shape (3, 2); transposing this result\n",
    "# yields the final result of shape (2, 3) which is the matrix x with\n",
    "# the vector w added to each column. Gives the following matrix:\n",
    "# [[ 5  6  7]\n",
    "#  [ 9 10 11]]\n",
    "print((x.T + w).T)\n",
    "# Another solution is to reshape w to be a column vector of shape (2, 1);\n",
    "# we can then broadcast it directly against x to produce the same\n",
    "# output.\n",
    "print(x + np.reshape(w, (2, 1)))\n",
    "\n",
    "# Multiply a matrix by a constant:\n",
    "# x has shape (2, 3). Numpy treats scalars as arrays of shape ();\n",
    "# these can be broadcast together to shape (2, 3), producing the\n",
    "# following array:\n",
    "# [[ 2  4  6]\n",
    "#  [ 8 10 12]]\n",
    "print(x * 2)"
   ]
  },
  {
   "cell_type": "code",
   "execution_count": null,
   "id": "4ef6b48b-7527-472e-8b00-de95636ced46",
   "metadata": {},
   "outputs": [],
   "source": []
  }
 ],
 "metadata": {
  "kernelspec": {
   "display_name": "Python 3 (ipykernel)",
   "language": "python",
   "name": "python3"
  },
  "language_info": {
   "codemirror_mode": {
    "name": "ipython",
    "version": 3
   },
   "file_extension": ".py",
   "mimetype": "text/x-python",
   "name": "python",
   "nbconvert_exporter": "python",
   "pygments_lexer": "ipython3",
   "version": "3.12.7"
  }
 },
 "nbformat": 4,
 "nbformat_minor": 5
}
