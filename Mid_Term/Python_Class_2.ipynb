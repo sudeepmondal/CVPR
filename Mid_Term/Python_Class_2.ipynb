{
 "cells": [
  {
   "cell_type": "markdown",
   "id": "150d5528-0c70-41c3-8454-e4233e71de04",
   "metadata": {},
   "source": [
    "## Python Lists, Tuples, Dictionaries, & Sets\n",
    "### List\n",
    "-items are stored sequentially\n",
    "-Lists are mutable\n",
    "-can hold on to different data types\n",
    "-use square brackets [] to create a list\n",
    "### Tuple\n",
    "-ordered list of values\n",
    "-immutable\n",
    "-in many ways, it is simillar to a list; one of the most important difference is that tuples can be used as KEYs in a dictionary or elements of a SET.\n",
    " use () to create a tuple\n",
    "-For a Python program, lists and tuples are very similar. It is possible to get by as a programmer using only lists and ignoring tuples. Both lists and  tuples hold an ordered collection of items.\n",
    "\n",
    "The primary difference that you will see syntactically is that a list is enclosed by square braces [] and a tuple is enclosed by parenthesis (). The following code defines both list and tuple."
   ]
  },
  {
   "cell_type": "code",
   "execution_count": 1,
   "id": "3d4e3a03-7d71-48e9-9da7-a9e838195566",
   "metadata": {},
   "outputs": [
    {
     "name": "stdout",
     "output_type": "stream",
     "text": [
      "['a', 'b', 1, 2]\n",
      "(3.3, 4.7, 'c', 'd')\n"
     ]
    }
   ],
   "source": [
    "l = ['a', 'b', 1, 2]\n",
    "t = ( 3.3, 4.7, 'c', 'd')\n",
    "\n",
    "print(l)\n",
    "print(t)"
   ]
  },
  {
   "cell_type": "code",
   "execution_count": 2,
   "id": "d4ed64e7-36d5-4287-8040-a9d6122d18c3",
   "metadata": {},
   "outputs": [
    {
     "name": "stdout",
     "output_type": "stream",
     "text": [
      "1 4.7 4.7\n"
     ]
    }
   ],
   "source": [
    "print(l[2], t[1], t[-3])\n"
   ]
  },
  {
   "cell_type": "code",
   "execution_count": 3,
   "id": "e94a689a-5126-468f-b252-cd01ddea7c98",
   "metadata": {},
   "outputs": [
    {
     "name": "stdout",
     "output_type": "stream",
     "text": [
      "3.3\n",
      "4.7\n",
      "c\n",
      "d\n"
     ]
    }
   ],
   "source": [
    "for i in t:\n",
    "    print(i)"
   ]
  },
  {
   "cell_type": "code",
   "execution_count": 4,
   "id": "d85b6f36-8e7d-4e63-a205-d499cbeb9449",
   "metadata": {},
   "outputs": [
    {
     "name": "stdout",
     "output_type": "stream",
     "text": [
      "0:a\n",
      "1:b\n",
      "2:1\n",
      "3:2\n"
     ]
    }
   ],
   "source": [
    "for i,v in enumerate(l):\n",
    "    print(f\"{i}:{v}\")"
   ]
  },
  {
   "cell_type": "code",
   "execution_count": 5,
   "id": "9f8b4752-d996-4550-ab37-4f3b249f8689",
   "metadata": {},
   "outputs": [
    {
     "name": "stdout",
     "output_type": "stream",
     "text": [
      "['a', 'b', 'c', 'c']\n"
     ]
    }
   ],
   "source": [
    "c = []\n",
    "c.append('a')\n",
    "c.append('b')\n",
    "c.append('c')\n",
    "c.append('c')\n",
    "print(c)"
   ]
  },
  {
   "cell_type": "code",
   "execution_count": 6,
   "id": "80f4e1be-5512-47a4-80ac-6f0e2b80cf69",
   "metadata": {},
   "outputs": [
    {
     "name": "stdout",
     "output_type": "stream",
     "text": [
      "['a', 'b', 'c', 'b']\n",
      "['a0', 'a', 'b', 'c', 'b']\n",
      "['a0', 'a', 'c', 'b']\n",
      "['a', 'c', 'b']\n"
     ]
    }
   ],
   "source": [
    "\n",
    "c = ['a', 'b', 'c', 'b']\n",
    "print(c)\n",
    "c.insert(0, 'a0')\n",
    "print(c)\n",
    "# Remove\n",
    "c.remove('b')\n",
    "print(c)\n",
    "# Remove at index\n",
    "del c[0]\n",
    "print(c)"
   ]
  },
  {
   "cell_type": "code",
   "execution_count": 7,
   "id": "c07e1562-a57b-4502-ba88-e87b88755bf9",
   "metadata": {},
   "outputs": [
    {
     "name": "stdout",
     "output_type": "stream",
     "text": [
      "[['a', 'b', 'c'], [1, 2, 3, 4, 5, 6, 7, 8], ['One', 'Two']]\n"
     ]
    }
   ],
   "source": [
    "listOfLists = [\n",
    "    ['a','b','c'],\n",
    "    [1,2,3,4,5,6,7,8],\n",
    "    ['One','Two']\n",
    "]\n",
    "print(listOfLists)"
   ]
  },
  {
   "cell_type": "code",
   "execution_count": 8,
   "id": "57633764-9735-4ee6-a7b1-279499e11fad",
   "metadata": {},
   "outputs": [
    {
     "name": "stdout",
     "output_type": "stream",
     "text": [
      "Two\n"
     ]
    }
   ],
   "source": [
    "print(listOfLists[2][1])"
   ]
  },
  {
   "cell_type": "markdown",
   "id": "f8e47dcf-3940-47e1-b697-b4ed93702288",
   "metadata": {},
   "source": [
    "### Sets\n",
    "A Python set holds an unordered collection of objects, but sets do not allow duplicates. If a program adds a duplicate item to a set, only one copy of each item remains in the collection. Adding a duplicate item to a set does not result in an error. Any of the following techniques will define a set.\n",
    "\n",
    "A list is always enclosed in square braces [], a tuple in parenthesis (), and now we see that the programmer encloses a set in curly braces. Programs can add items to a set as they run. Programs can dynamically add items to a set with the add function. It is important to note that the append function adds items to lists and tuples, whereas the add function adds items to a set."
   ]
  },
  {
   "cell_type": "code",
   "execution_count": 9,
   "id": "f9fe2eed-c3ab-45e6-949c-b641ca756c75",
   "metadata": {},
   "outputs": [
    {
     "name": "stdout",
     "output_type": "stream",
     "text": [
      "{'MBA', 'EEE', 'ARCHI', 'BBA'} <class 'set'>\n"
     ]
    }
   ],
   "source": [
    "depts = {\"MBA\",\"EEE\",\"BBA\",\"ARCHI\"}\n",
    "print(depts, type(depts))\n"
   ]
  },
  {
   "cell_type": "code",
   "execution_count": 10,
   "id": "4556960c-8c57-43a6-9599-d0ac47c293fc",
   "metadata": {},
   "outputs": [
    {
     "name": "stdout",
     "output_type": "stream",
     "text": [
      "{'BBA', 'CS', 'MBA', 'EEE', 'ARCHI'}\n"
     ]
    }
   ],
   "source": [
    "depts.add(\"CS\")\n",
    "print(depts)"
   ]
  },
  {
   "cell_type": "code",
   "execution_count": 11,
   "id": "4a81e7c2-69f8-422f-9f2d-ce1ccdb414de",
   "metadata": {},
   "outputs": [
    {
     "name": "stdout",
     "output_type": "stream",
     "text": [
      "{'BBA', 'CS', 'MBA', 'EEE'}\n"
     ]
    }
   ],
   "source": [
    "depts.remove(\"ARCHI\")\n",
    "print(depts)"
   ]
  },
  {
   "cell_type": "code",
   "execution_count": 12,
   "id": "ef69fc31-b514-4c98-8cf9-2ae5232406a5",
   "metadata": {},
   "outputs": [
    {
     "data": {
      "text/plain": [
       "True"
      ]
     },
     "execution_count": 12,
     "metadata": {},
     "output_type": "execute_result"
    }
   ],
   "source": [
    "\"CS\" in depts"
   ]
  },
  {
   "cell_type": "code",
   "execution_count": 13,
   "id": "bf00d8b6-c675-49a2-94bc-391289b475d6",
   "metadata": {},
   "outputs": [
    {
     "data": {
      "text/plain": [
       "False"
      ]
     },
     "execution_count": 13,
     "metadata": {},
     "output_type": "execute_result"
    }
   ],
   "source": [
    "\"ARCHI\" in depts"
   ]
  },
  {
   "cell_type": "markdown",
   "id": "9a9b16de-3679-4597-98c2-fa620ed2e123",
   "metadata": {},
   "source": [
    "### Maps/Dictionaries/Hash Tables\n",
    "Many programming languages include the concept of a map, dictionary, or hash table. These are all very related concepts. Python provides a dictionary, that is essentially a collection of name-value pairs. Programs define dictionaries using curly-braces, as seen here."
   ]
  },
  {
   "cell_type": "code",
   "execution_count": 14,
   "id": "cf10ab78-6676-49e3-981a-d955552d2aec",
   "metadata": {},
   "outputs": [
    {
     "name": "stdout",
     "output_type": "stream",
     "text": [
      "{'mahedi': 93.77, 'rabbi': 94.0, 'ahsan': 92.5} <class 'dict'>\n"
     ]
    }
   ],
   "source": [
    "std = {'mahedi': 93.77, 'rabbi': 94.00, 'ahsan': 92.5}\n",
    "print(std, type(std))"
   ]
  },
  {
   "cell_type": "code",
   "execution_count": 15,
   "id": "192646dd-84dc-4358-8911-ea1c3e0489db",
   "metadata": {},
   "outputs": [
    {
     "name": "stdout",
     "output_type": "stream",
     "text": [
      "94.0\n"
     ]
    }
   ],
   "source": [
    "print(std['rabbi'])"
   ]
  },
  {
   "cell_type": "code",
   "execution_count": 16,
   "id": "3e5734a2-4b7f-43b8-bc5b-48fa021a0e26",
   "metadata": {},
   "outputs": [
    {
     "data": {
      "text/plain": [
       "93.77"
      ]
     },
     "execution_count": 16,
     "metadata": {},
     "output_type": "execute_result"
    }
   ],
   "source": [
    "std.get('mahedi', 'default')"
   ]
  },
  {
   "cell_type": "code",
   "execution_count": 17,
   "id": "d0632224-f32a-439f-a543-82897511898e",
   "metadata": {},
   "outputs": [
    {
     "name": "stdout",
     "output_type": "stream",
     "text": [
      "Key: dict_keys(['mahedi', 'rabbi', 'ahsan'])\n"
     ]
    }
   ],
   "source": [
    "print(f\"Key: {std.keys()}\")"
   ]
  },
  {
   "cell_type": "code",
   "execution_count": 18,
   "id": "0a27a213-4f3a-4f4b-a5ca-5a28a8131de3",
   "metadata": {},
   "outputs": [
    {
     "name": "stdout",
     "output_type": "stream",
     "text": [
      "Values: dict_values([93.77, 94.0, 92.5])\n"
     ]
    }
   ],
   "source": [
    "print(f\"Values: {std.values()}\")"
   ]
  },
  {
   "cell_type": "code",
   "execution_count": 19,
   "id": "6a70d741-877c-42de-b220-51f8bd414304",
   "metadata": {},
   "outputs": [
    {
     "name": "stdout",
     "output_type": "stream",
     "text": [
      "person\n",
      "cat\n",
      "dog\n",
      "spider\n"
     ]
    }
   ],
   "source": [
    "d = {'person': 2, 'cat': 4, 'dog': 4, 'spider': 8}\n",
    "for obs in d:\n",
    "    print(obs)\n"
   ]
  },
  {
   "cell_type": "code",
   "execution_count": 20,
   "id": "90c57631-1b61-42ef-8a2b-0c43cd7a93e5",
   "metadata": {},
   "outputs": [
    {
     "name": "stdout",
     "output_type": "stream",
     "text": [
      "A person has 2 legs\n",
      "A cat has 4 legs\n",
      "A dog has 4 legs\n",
      "A spider has 8 legs\n"
     ]
    }
   ],
   "source": [
    "for obs in d:\n",
    "    legs = d[obs]\n",
    "    print('A %s has %d legs' % (obs, legs))"
   ]
  },
  {
   "cell_type": "code",
   "execution_count": 21,
   "id": "8a847ad3-6e51-4b37-92f6-3f21298672c1",
   "metadata": {},
   "outputs": [
    {
     "name": "stdout",
     "output_type": "stream",
     "text": [
      "A person has 2 legs\n",
      "A cat has 4 legs\n",
      "A dog has 4 legs\n",
      "A spider has 8 legs\n"
     ]
    }
   ],
   "source": [
    "for obs,legs in d.items():\n",
    "    print('A %s has %d legs' % (obs, legs))\n"
   ]
  },
  {
   "cell_type": "markdown",
   "id": "84255e3e-3a74-4f37-b06d-ae8c11cbfe16",
   "metadata": {},
   "source": [
    "### Advanced operations\n"
   ]
  },
  {
   "cell_type": "code",
   "execution_count": 22,
   "id": "1ea75390-8fd8-41ad-b4d6-2179cad842d0",
   "metadata": {},
   "outputs": [
    {
     "name": "stdout",
     "output_type": "stream",
     "text": [
      "[1, 2, 3]\n",
      "[1, 2]\n",
      "[4, 5]\n",
      "[1, 2, 3, 4]\n",
      "[3]\n"
     ]
    }
   ],
   "source": [
    "a = [1,2,3,4,5]\n",
    "print(a[0:3]) # slicing operator\n",
    "print(a[:2])\n",
    "print(a[3:])\n",
    "print(a[:-1])\n",
    "print(a[2:-2])"
   ]
  },
  {
   "cell_type": "code",
   "execution_count": 23,
   "id": "2fd0e52e-022d-4ca4-a84a-031f4b558b40",
   "metadata": {},
   "outputs": [
    {
     "name": "stdout",
     "output_type": "stream",
     "text": [
      "<zip object at 0x000001B0FB918AC0>\n",
      "[(1, 5), (2, 4), (3, 3), (4, 2), (5, 1)]\n"
     ]
    }
   ],
   "source": [
    "a = [1,2,3,4,5]\n",
    "b = [5,4,3,2,1]\n",
    "\n",
    "print(zip(a,b))\n",
    "print(list(zip(a,b)))"
   ]
  },
  {
   "cell_type": "code",
   "execution_count": 24,
   "id": "b02a1326-9b17-4d04-8cdb-d31e7dba34d9",
   "metadata": {},
   "outputs": [
    {
     "name": "stdout",
     "output_type": "stream",
     "text": [
      "1 - 5 ==> -4\n",
      "2 - 4 ==> -2\n",
      "3 - 3 ==> 0\n",
      "4 - 2 ==> 2\n",
      "5 - 1 ==> 4\n"
     ]
    }
   ],
   "source": [
    "for x,y in zip(a,b):\n",
    "    print(f'{x} - {y} ==> {x-y}')"
   ]
  },
  {
   "cell_type": "code",
   "execution_count": 25,
   "id": "59682e6f-3669-4b89-ad0f-0caee114156f",
   "metadata": {},
   "outputs": [
    {
     "name": "stdout",
     "output_type": "stream",
     "text": [
      "[(1, 5), (2, 4), (3, 3)]\n"
     ]
    }
   ],
   "source": [
    "a = [1,2,3,4,5]\n",
    "b = [5,4,3]\n",
    "\n",
    "print(list(zip(a,b)))"
   ]
  },
  {
   "cell_type": "code",
   "execution_count": 26,
   "id": "0688615a-0e05-488f-8fdb-5b1f4912d5ae",
   "metadata": {},
   "outputs": [
    {
     "name": "stdout",
     "output_type": "stream",
     "text": [
      "[0, 1, 4, 9, 16, 25, 36, 49, 64, 81]\n"
     ]
    }
   ],
   "source": [
    "arr1 = [0,1,2,3,4,5,6,7,8,9]\n",
    "arr2 = []\n",
    "# avoid doing this !!!!\n",
    "for a in arr1:\n",
    "    arr2.append(a**2)\n",
    "print(arr2)"
   ]
  },
  {
   "cell_type": "markdown",
   "id": "df194d00-b0f9-4ad6-923c-e346ba291466",
   "metadata": {},
   "source": [
    "### List Comprehension\n"
   ]
  },
  {
   "cell_type": "code",
   "execution_count": 27,
   "id": "e265f5e7-1dd5-43d4-a46e-fca576068de5",
   "metadata": {},
   "outputs": [
    {
     "name": "stdout",
     "output_type": "stream",
     "text": [
      "[0, 1, 2, 3, 4, 5, 6, 7, 8, 9]\n"
     ]
    }
   ],
   "source": [
    "\n",
    "arr1 = [0,1,2,3,4,5,6,7,8,9]\n",
    "arr1_copy = [i for i in arr1]\n",
    "print(arr1_copy)"
   ]
  },
  {
   "cell_type": "code",
   "execution_count": 28,
   "id": "4ffbd2e5-c461-4daa-a4fc-d12419f11638",
   "metadata": {},
   "outputs": [
    {
     "name": "stdout",
     "output_type": "stream",
     "text": [
      "[0, 1, 4, 9, 16, 25, 36, 49, 64, 81]\n"
     ]
    }
   ],
   "source": [
    "sq = [a**2 for a in arr1]\n",
    "print(sq)"
   ]
  },
  {
   "cell_type": "code",
   "execution_count": 29,
   "id": "76c42f28-c184-41d7-839b-3bb150efa05e",
   "metadata": {},
   "outputs": [
    {
     "name": "stdout",
     "output_type": "stream",
     "text": [
      "[0, 4, 16, 36, 64]\n"
     ]
    }
   ],
   "source": [
    "sq_even = [x**2 for x in arr1 if x%2 == 0]\n",
    "print(sq_even)"
   ]
  },
  {
   "cell_type": "code",
   "execution_count": 30,
   "id": "4b940c4f-e2b4-435a-a2c5-32f4b297e334",
   "metadata": {},
   "outputs": [
    {
     "name": "stdout",
     "output_type": "stream",
     "text": [
      "{(0, 0): (0, 0), (1, 1): (1, 1), (2, 2): (2, 4), (3, 3): (3, 9), (4, 4): (4, 16), (5, 5): (5, 25), (6, 6): (6, 36), (7, 7): (7, 49), (8, 8): (8, 64), (9, 9): (9, 81)}\n"
     ]
    }
   ],
   "source": [
    "d = {(a,a): (a,a**2) for a in range(10)}\n",
    "print(d)"
   ]
  },
  {
   "cell_type": "code",
   "execution_count": 31,
   "id": "c93345dc-b842-46a9-8d7a-3ac90da975a5",
   "metadata": {},
   "outputs": [
    {
     "name": "stdout",
     "output_type": "stream",
     "text": [
      "(5, 25)\n"
     ]
    }
   ],
   "source": [
    "\n",
    "print(d[(5,5)])"
   ]
  }
 ],
 "metadata": {
  "kernelspec": {
   "display_name": "Python 3 (ipykernel)",
   "language": "python",
   "name": "python3"
  },
  "language_info": {
   "codemirror_mode": {
    "name": "ipython",
    "version": 3
   },
   "file_extension": ".py",
   "mimetype": "text/x-python",
   "name": "python",
   "nbconvert_exporter": "python",
   "pygments_lexer": "ipython3",
   "version": "3.12.7"
  }
 },
 "nbformat": 4,
 "nbformat_minor": 5
}
