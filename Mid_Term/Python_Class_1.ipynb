{
 "cells": [
  {
   "cell_type": "markdown",
   "id": "700072c1-5af1-4619-b2d4-59e2ca4ae104",
   "metadata": {},
   "source": [
    "## Testing Enviroment\n",
    "### Lunch Jupyter Notebook\n",
    "    jupyter notebook\n"
   ]
  },
  {
   "cell_type": "code",
   "execution_count": 9,
   "id": "0ca50a3d-aeca-4c28-85d7-d8cd38ff230b",
   "metadata": {},
   "outputs": [
    {
     "data": {
      "text/plain": [
       "'Hello'"
      ]
     },
     "execution_count": 9,
     "metadata": {},
     "output_type": "execute_result"
    }
   ],
   "source": [
    "('Hello')"
   ]
  },
  {
   "cell_type": "code",
   "execution_count": null,
   "id": "24125d04-f56d-40d2-9582-91c21ce2f10e",
   "metadata": {},
   "outputs": [],
   "source": []
  },
  {
   "cell_type": "markdown",
   "id": "0785dc30-fc35-4a01-be92-7791b8871a02",
   "metadata": {},
   "source": [
    "### Programming basics in python\n",
    "    Numbers (int & float)"
   ]
  },
  {
   "cell_type": "code",
   "execution_count": 11,
   "id": "fc6a9b5b-a21d-4f98-a9e0-b7f8394daf3b",
   "metadata": {},
   "outputs": [
    {
     "name": "stdout",
     "output_type": "stream",
     "text": [
      "<class 'int'>\n",
      "3\n",
      "4\n",
      "2\n",
      "6\n",
      "9\n",
      "4\n",
      "8\n",
      "<class 'float'>\n",
      "2.5 3.5 5.0 6.25\n"
     ]
    }
   ],
   "source": [
    "x = 3\n",
    "print(type(x)) # Prints \"<class 'int'>\"\n",
    "print(x)       # Prints \"3\"\n",
    "print(x + 1)   # Addition; prints \"4\"\n",
    "print(x - 1)   # Subtraction; prints \"2\"\n",
    "print(x * 2)   # Multiplication; prints \"6\"\n",
    "print(x ** 2)  # Exponentiation; prints \"9\"\n",
    "\n",
    "x += 1\n",
    "print(x)  # Prints \"4\"\n",
    "x *= 2\n",
    "print(x)  # Prints \"8\"\n",
    "y = 2.5\n",
    "print(type(y)) # Prints \"<class 'float'>\"\n",
    "print(y, y + 1, y * 2, y ** 2) # Prints \"2.5 3.5 5.0 6.25\""
   ]
  },
  {
   "cell_type": "markdown",
   "id": "80ea1d3c-359b-41c7-b795-1602aa323fb9",
   "metadata": {},
   "source": [
    "### Booleans"
   ]
  },
  {
   "cell_type": "code",
   "execution_count": 12,
   "id": "8af5c448-77a5-4530-a4d5-9731987d9ee0",
   "metadata": {},
   "outputs": [
    {
     "name": "stdout",
     "output_type": "stream",
     "text": [
      "<class 'bool'>\n",
      "False\n",
      "True\n",
      "False\n",
      "True\n"
     ]
    }
   ],
   "source": [
    "t = True\n",
    "f = False\n",
    "print(type(t)) # Prints \"<class 'bool'>\"\n",
    "print(t and f) # Logical AND; prints \"False\"\n",
    "print(t or f)  # Logical OR; prints \"True\"\n",
    "print(not t)   # Logical NOT; prints \"False\"\n",
    "print(t != f)  # Logical XOR; prints \"True\""
   ]
  },
  {
   "cell_type": "markdown",
   "id": "c2c8190a-f44b-4048-85ee-e47a61c81ca5",
   "metadata": {},
   "source": [
    "### String"
   ]
  },
  {
   "cell_type": "code",
   "execution_count": 13,
   "id": "17d909e5-4de4-46ab-a01d-9668c7c21e0e",
   "metadata": {},
   "outputs": [
    {
     "name": "stdout",
     "output_type": "stream",
     "text": [
      "Hello World\n",
      "Hello World\n",
      "Print\n",
      "Multiple\n",
      "Lines\n",
      "\n"
     ]
    }
   ],
   "source": [
    "print(\"Hello World\")\n",
    "print('Hello World')\n",
    "print(\"\"\"Print\n",
    "Multiple\n",
    "Lines\n",
    "\"\"\")"
   ]
  },
  {
   "cell_type": "code",
   "execution_count": 14,
   "id": "4a54f658-bca5-4a22-9d32-bb25d76966cc",
   "metadata": {},
   "outputs": [
    {
     "name": "stdout",
     "output_type": "stream",
     "text": [
      "The value of a is 10\n",
      "The value of a plus 5 is 15\n",
      "a is 5\n",
      "a is 5\n",
      "a is 5\n",
      "a is 5 5\n"
     ]
    }
   ],
   "source": [
    "a = 10\n",
    "print(f'The value of a is {a}')\n",
    "a = 10\n",
    "print(f'The value of a plus 5 is {a+5}')\n",
    "a = 5\n",
    "\n",
    "print(f'a is {a}') # Preferred method for this course.\n",
    "print('a is {}'.format(a))\n",
    "print('a is ' + str(a))\n",
    "print('a is %d %d' % (a, a))\n"
   ]
  },
  {
   "cell_type": "markdown",
   "id": "376c1e24-253d-44a5-a76e-7381ced417d8",
   "metadata": {},
   "source": [
    "### Condition checking"
   ]
  },
  {
   "cell_type": "code",
   "execution_count": 15,
   "id": "c076e8a0-03fe-4f42-85bf-3816b3da46e3",
   "metadata": {},
   "outputs": [
    {
     "name": "stdout",
     "output_type": "stream",
     "text": [
      "The variable a is 5\n",
      "The variable b is also 6\n"
     ]
    }
   ],
   "source": [
    "a = 5\n",
    "b = 6\n",
    "\n",
    "if a==5:\n",
    "    print('The variable a is 5')\n",
    "    if b==6:\n",
    "        print('The variable b is also 6')\n",
    "elif a==6:\n",
    "    print('The variable a is 6')\n",
    "else:\n",
    "    print('anything')"
   ]
  },
  {
   "cell_type": "markdown",
   "id": "8e1ba441-cdb6-4265-9a8d-bce745033496",
   "metadata": {},
   "source": [
    "### Looping"
   ]
  },
  {
   "cell_type": "code",
   "execution_count": 16,
   "id": "e31d2cef-0c7d-4a57-89bf-5464149f8b6b",
   "metadata": {},
   "outputs": [
    {
     "name": "stdout",
     "output_type": "stream",
     "text": [
      "1\n",
      "2\n",
      "3\n",
      "4\n",
      "5\n",
      "6\n",
      "7\n",
      "8\n",
      "9\n"
     ]
    }
   ],
   "source": [
    "for x in range(1, 10):  # If you ever see xrange, you are in Python 2\n",
    "    print(x)  "
   ]
  },
  {
   "cell_type": "code",
   "execution_count": 17,
   "id": "67a9346e-7870-4760-a963-7fec7342289d",
   "metadata": {},
   "outputs": [
    {
     "name": "stdout",
     "output_type": "stream",
     "text": [
      "test:  10\n",
      "test:  9\n",
      "test:  8\n",
      "test:  7\n",
      "test:  6\n",
      "test:  5\n",
      "test:  4\n",
      "test:  3\n",
      "test:  2\n"
     ]
    }
   ],
   "source": [
    "for i in range(10,1,-1):\n",
    "    # range(start (optional, default 0), end (exclusive), inc/dec (optional, default 1))\n",
    "    print('test: ', i)"
   ]
  },
  {
   "cell_type": "code",
   "execution_count": 18,
   "id": "0c3ae897-2ef3-40e6-a485-8ee76c178f99",
   "metadata": {},
   "outputs": [
    {
     "name": "stdout",
     "output_type": "stream",
     "text": [
      "0 + 1 =  1\n",
      "1 + 2 =  3\n",
      "3 + 3 =  6\n",
      "6 + 4 =  10\n",
      "10 + 5 =  15\n",
      "15 + 6 =  21\n",
      "21 + 7 =  28\n",
      "28 + 8 =  36\n",
      "36 + 9 =  45\n",
      "Final sum: 45\n"
     ]
    }
   ],
   "source": [
    "acc = 0\n",
    "for x in range(1, 10):\n",
    "    print(f\"{acc} + {x} =  \", end=\"\")\n",
    "    acc += x\n",
    "    print(acc)\n",
    "\n",
    "print(f\"Final sum: {acc}\")"
   ]
  },
  {
   "cell_type": "code",
   "execution_count": null,
   "id": "c5449f71-2fce-4a58-b262-d08805151b3c",
   "metadata": {},
   "outputs": [],
   "source": []
  },
  {
   "cell_type": "code",
   "execution_count": null,
   "id": "04924ee8-36e7-4451-8b2f-20c1e557eac0",
   "metadata": {},
   "outputs": [],
   "source": []
  }
 ],
 "metadata": {
  "kernelspec": {
   "display_name": "Python 3 (ipykernel)",
   "language": "python",
   "name": "python3"
  },
  "language_info": {
   "codemirror_mode": {
    "name": "ipython",
    "version": 3
   },
   "file_extension": ".py",
   "mimetype": "text/x-python",
   "name": "python",
   "nbconvert_exporter": "python",
   "pygments_lexer": "ipython3",
   "version": "3.12.7"
  }
 },
 "nbformat": 4,
 "nbformat_minor": 5
}
