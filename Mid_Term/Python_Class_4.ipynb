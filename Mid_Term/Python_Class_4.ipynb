{
 "cells": [
  {
   "cell_type": "markdown",
   "id": "dd88023b-7648-4751-87e9-57c035031b35",
   "metadata": {},
   "source": [
    "### Map, Filter, Lambda, & Reduce\n"
   ]
  },
  {
   "cell_type": "code",
   "execution_count": 3,
   "id": "3bff5523-c38d-49a1-bd02-5bf69119139d",
   "metadata": {},
   "outputs": [
    {
     "name": "stdout",
     "output_type": "stream",
     "text": [
      "5 positive\n",
      "4 positive\n",
      "3 positive\n",
      "2 positive\n",
      "1 positive\n",
      "0 zero\n",
      "-1 negative\n",
      "-2 negative\n",
      "-3 negative\n",
      "-4 negative\n",
      "-5 negative\n"
     ]
    }
   ],
   "source": [
    "def sign(a):\n",
    "    if a > 0:\n",
    "        return 'positive'\n",
    "    elif a < 0:\n",
    "        return 'negative'\n",
    "    else:\n",
    "        return 'zero'\n",
    "\n",
    "# Loop from 5 to -5, decrementing by 1 each time\n",
    "for i in range(5, -6, -1):\n",
    "    print(i, sign(i))\n"
   ]
  },
  {
   "cell_type": "code",
   "execution_count": 4,
   "id": "73c0541a-501d-434e-bb8b-6939c386da6b",
   "metadata": {},
   "outputs": [
    {
     "name": "stdout",
     "output_type": "stream",
     "text": [
      "5 positive\n",
      "4 positive\n",
      "3 positive\n",
      "2 positive\n",
      "1 positive\n",
      "0 zero\n",
      "-1 negative\n",
      "-2 negative\n",
      "-3 negative\n",
      "-4 negative\n",
      "-5 negative\n"
     ]
    }
   ],
   "source": [
    "for i in range(5, -6, -1):\n",
    "    print(i, sign(i))"
   ]
  },
  {
   "cell_type": "markdown",
   "id": "3b5d7ff7-3205-469a-8578-f5e6cb9ee1f8",
   "metadata": {},
   "source": [
    "### Map"
   ]
  },
  {
   "cell_type": "code",
   "execution_count": 5,
   "id": "8e4fcdfe-d7ad-4caa-800f-8061c324fa49",
   "metadata": {},
   "outputs": [],
   "source": [
    "def addtion(x):\n",
    "    return x+x"
   ]
  },
  {
   "cell_type": "code",
   "execution_count": 13,
   "id": "3d9ca051-b8ed-4023-b4bf-190abfdfb3f9",
   "metadata": {},
   "outputs": [
    {
     "name": "stdout",
     "output_type": "stream",
     "text": [
      "[2, 4, 6, 8, 10, 12]\n"
     ]
    }
   ],
   "source": [
    "nums = [1,2,3,4,5,6]\n",
    "res = map(addtion, nums)\n",
    "print(list(res))"
   ]
  },
  {
   "cell_type": "code",
   "execution_count": 15,
   "id": "daef82dd-d5e3-4f8a-bea1-f6103f1913b0",
   "metadata": {},
   "outputs": [],
   "source": [
    "def pre_process(str):\n",
    "    t = str.strip()\n",
    "    return t[0].upper()+t[1:]"
   ]
  },
  {
   "cell_type": "code",
   "execution_count": 11,
   "id": "cc9dc5a3-c163-4633-9777-a2e2d9ac275a",
   "metadata": {},
   "outputs": [
    {
     "data": {
      "text/plain": [
       "['Apple', 'Pear', 'Orange', 'Mango', 'Pine apple']"
      ]
     },
     "execution_count": 11,
     "metadata": {},
     "output_type": "execute_result"
    }
   ],
   "source": [
    "l1 = ['   apple  ', 'pear ', ' orange', 'mango', 'pine apple  ']\n",
    "list(map(pre_process, l1))"
   ]
  },
  {
   "cell_type": "code",
   "execution_count": 16,
   "id": "a5ad544b-fd95-4b7b-8459-44cae82abfb4",
   "metadata": {},
   "outputs": [
    {
     "name": "stdout",
     "output_type": "stream",
     "text": [
      "['Apple', 'Pear', 'Orange', 'Mango', 'Pine apple']\n"
     ]
    }
   ],
   "source": [
    "l2 = [pre_process(x) for x in l1]\n",
    "print(l2)"
   ]
  },
  {
   "cell_type": "markdown",
   "id": "9b67003f-504b-4611-ba5c-5e6a685ad197",
   "metadata": {},
   "source": [
    "### Filter"
   ]
  },
  {
   "cell_type": "code",
   "execution_count": 17,
   "id": "11c68429-3a48-4631-8fdf-ffee150256b3",
   "metadata": {},
   "outputs": [
    {
     "name": "stdout",
     "output_type": "stream",
     "text": [
      "[10, 20]\n"
     ]
    }
   ],
   "source": [
    "def greater_than_five(x):\n",
    "    return x>5\n",
    "\n",
    "l = [ 1, 10, 20, 3, -2, 0]\n",
    "l2 = list(filter(greater_than_five, l))\n",
    "print(l2)"
   ]
  },
  {
   "cell_type": "markdown",
   "id": "0891dbf9-0939-4d0d-b27d-bd79a280bd18",
   "metadata": {},
   "source": [
    "### Lambda"
   ]
  },
  {
   "cell_type": "code",
   "execution_count": 18,
   "id": "507a74e9-6088-46d7-99c6-3c2488e1142b",
   "metadata": {},
   "outputs": [
    {
     "name": "stdout",
     "output_type": "stream",
     "text": [
      "[2, 20, 40, 6, -4, 0]\n"
     ]
    }
   ],
   "source": [
    "nums = [ 1, 10, 20, 3, -2, 0]\n",
    "print(list(map(lambda a: a+a, nums)))"
   ]
  },
  {
   "cell_type": "code",
   "execution_count": 19,
   "id": "94579867-24dd-4e6e-b765-292a8f15bc01",
   "metadata": {},
   "outputs": [
    {
     "name": "stdout",
     "output_type": "stream",
     "text": [
      "[10, 20]\n"
     ]
    }
   ],
   "source": [
    "print(list(filter(lambda a: a>3, nums)))\n"
   ]
  },
  {
   "cell_type": "code",
   "execution_count": 20,
   "id": "93515a5f-b195-460a-95fe-941ac5197397",
   "metadata": {},
   "outputs": [
    {
     "name": "stdout",
     "output_type": "stream",
     "text": [
      "[False, True, True, False, False, False]\n"
     ]
    }
   ],
   "source": [
    "print(list(map(lambda a: a>3, nums)))\n"
   ]
  },
  {
   "cell_type": "markdown",
   "id": "37c2cbf6-3c7b-4e33-b635-ac71caa201a5",
   "metadata": {},
   "source": [
    "### Reduce"
   ]
  },
  {
   "cell_type": "code",
   "execution_count": 21,
   "id": "94c858b4-5faa-48bc-ab50-1736b219c430",
   "metadata": {},
   "outputs": [
    {
     "name": "stdout",
     "output_type": "stream",
     "text": [
      "32\n"
     ]
    }
   ],
   "source": [
    "from functools import reduce\n",
    "\n",
    "l = [1, 10, 20, 3, -2, 0]\n",
    "\n",
    "# Applying reduce with a lambda function to sum all elements\n",
    "result = reduce(lambda x, y: x + y, l)\n",
    "\n",
    "print(result)\n"
   ]
  },
  {
   "cell_type": "code",
   "execution_count": null,
   "id": "457feb20-f6f7-4223-b9d8-dc29bbfb0609",
   "metadata": {},
   "outputs": [],
   "source": []
  }
 ],
 "metadata": {
  "kernelspec": {
   "display_name": "Python 3 (ipykernel)",
   "language": "python",
   "name": "python3"
  },
  "language_info": {
   "codemirror_mode": {
    "name": "ipython",
    "version": 3
   },
   "file_extension": ".py",
   "mimetype": "text/x-python",
   "name": "python",
   "nbconvert_exporter": "python",
   "pygments_lexer": "ipython3",
   "version": "3.12.7"
  }
 },
 "nbformat": 4,
 "nbformat_minor": 5
}
